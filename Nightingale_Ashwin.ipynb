{
 "cells": [
  {
   "cell_type": "code",
   "execution_count": 7,
   "metadata": {},
   "outputs": [
    {
     "data": {
      "text/html": [
       "<script type=\"text/javascript\">window.PlotlyConfig = {MathJaxConfig: 'local'};</script><script type=\"text/javascript\">if (window.MathJax) {MathJax.Hub.Config({SVG: {font: \"STIX-Web\"}});}</script><script>requirejs.config({paths: { 'plotly': ['https://cdn.plot.ly/plotly-latest.min']},});if(!window._Plotly) {require(['plotly'],function(plotly) {window._Plotly=plotly;});}</script>"
      ],
      "text/vnd.plotly.v1+html": [
       "<script type=\"text/javascript\">window.PlotlyConfig = {MathJaxConfig: 'local'};</script><script type=\"text/javascript\">if (window.MathJax) {MathJax.Hub.Config({SVG: {font: \"STIX-Web\"}});}</script><script>requirejs.config({paths: { 'plotly': ['https://cdn.plot.ly/plotly-latest.min']},});if(!window._Plotly) {require(['plotly'],function(plotly) {window._Plotly=plotly;});}</script>"
      ]
     },
     "metadata": {},
     "output_type": "display_data"
    }
   ],
   "source": [
    "import numpy as np\n",
    "import pandas as pd\n",
    "import plotly\n",
    "plotly.offline.init_notebook_mode(connected=True)\n",
    "import plotly.offline as py\n",
    "import plotly.graph_objs as go\n",
    "from plotly import tools"
   ]
  },
  {
   "cell_type": "code",
   "execution_count": 8,
   "metadata": {},
   "outputs": [],
   "source": [
    "nightingale = pd.read_excel('nightingale-data-1.xlsx', header=1)"
   ]
  },
  {
   "cell_type": "code",
   "execution_count": 59,
   "metadata": {},
   "outputs": [
    {
     "data": {
      "application/vnd.plotly.v1+json": {
       "config": {
        "linkText": "Export to plot.ly",
        "plotlyServerURL": "https://plot.ly",
        "showLink": false
       },
       "data": [
        {
         "marker": {
          "color": "#333333",
          "opacity": 0.8
         },
         "name": "All other causes",
         "r": [
          7,
          4.6,
          2.5,
          9.6,
          11.9,
          27.7,
          50.1,
          42.8,
          48,
          120,
          140.1,
          68.6
         ],
         "showlegend": true,
         "subplot": "polar",
         "text": [
          "Apr 1854",
          "May 1854",
          "Jun 1854",
          "Jul 1854",
          "Aug 1854",
          "Sep 1854",
          "Oct 1854",
          "Nov 1854",
          "Dec 1854",
          "Jan 1855",
          "Feb 1855",
          "Mar 1855"
         ],
         "theta": [
          "Apr 1854",
          "May 1854",
          "Jun 1854",
          "Jul 1854",
          "Aug 1854",
          "Sep 1854",
          "Oct 1854",
          "Nov 1854",
          "Dec 1854",
          "Jan 1855",
          "Feb 1855",
          "Mar 1855"
         ],
         "type": "barpolar",
         "uid": "d9615368-c197-478f-92ac-d0bfd78ab903"
        },
        {
         "marker": {
          "color": "#ff93ac",
          "opacity": 0.8
         },
         "name": "Wounds & injuries",
         "r": [
          0,
          0,
          0,
          0,
          0.4,
          32.1,
          51.7,
          115.8,
          41.7,
          30.7,
          16.3,
          12.8
         ],
         "showlegend": true,
         "subplot": "polar",
         "theta": [
          "Apr 1854",
          "May 1854",
          "Jun 1854",
          "Jul 1854",
          "Aug 1854",
          "Sep 1854",
          "Oct 1854",
          "Nov 1854",
          "Dec 1854",
          "Jan 1855",
          "Feb 1855",
          "Mar 1855"
         ],
         "type": "barpolar",
         "uid": "de151ba8-ce4d-4260-95bb-2584e08f5bb3"
        },
        {
         "marker": {
          "color": "aqua",
          "opacity": 0.8
         },
         "name": "Zymotic diseases",
         "r": [
          1.4,
          6.2,
          4.7,
          150,
          328.5,
          312.2,
          197,
          340.6,
          631.5,
          1022.8,
          822.8,
          480.3
         ],
         "showlegend": true,
         "subplot": "polar",
         "text": [
          "Apr 1854",
          "May 1854",
          "Jun 1854",
          "Jul 1854",
          "Aug 1854",
          "Sep 1854",
          "Oct 1854",
          "Nov 1854",
          "Dec 1854",
          "Jan 1855",
          "Feb 1855",
          "Mar 1855"
         ],
         "theta": [
          "Apr 1854",
          "May 1854",
          "Jun 1854",
          "Jul 1854",
          "Aug 1854",
          "Sep 1854",
          "Oct 1854",
          "Nov 1854",
          "Dec 1854",
          "Jan 1855",
          "Feb 1855",
          "Mar 1855"
         ],
         "type": "barpolar",
         "uid": "edda4d33-2672-480e-8579-d68c765bf6d7"
        },
        {
         "marker": {
          "color": "#333333",
          "opacity": 0.8
         },
         "name": "All other causes",
         "r": [
          21.2,
          12.5,
          9.6,
          9.3,
          6.7,
          5,
          4.6,
          10.1,
          7.8,
          13,
          5.2,
          9.1
         ],
         "showlegend": false,
         "subplot": "polar2",
         "theta": [
          "Apr 1855",
          "May 1855",
          "Jun 1855",
          "Jul 1855",
          "Aug 1855",
          "Sep 1855",
          "Oct 1855",
          "Nov 1855",
          "Dec 1855",
          "Jan 1856",
          "Feb 1856",
          "Mar 1856"
         ],
         "type": "barpolar",
         "uid": "d46a314e-cfd3-4338-9299-014e0b0d2013"
        },
        {
         "marker": {
          "color": "#ff93ac",
          "opacity": 0.8
         },
         "name": "Wounds & injuries",
         "r": [
          17.9,
          16.6,
          64.5,
          37.7,
          44.1,
          69.4,
          13.6,
          10.5,
          5,
          0.5,
          0,
          0
         ],
         "showlegend": false,
         "subplot": "polar2",
         "theta": [
          "Apr 1855",
          "May 1855",
          "Jun 1855",
          "Jul 1855",
          "Aug 1855",
          "Sep 1855",
          "Oct 1855",
          "Nov 1855",
          "Dec 1855",
          "Jan 1856",
          "Feb 1856",
          "Mar 1856"
         ],
         "type": "barpolar",
         "uid": "dc4f4c0e-544a-4423-b347-0fdd69116dde"
        },
        {
         "marker": {
          "color": "aqua",
          "opacity": 0.8
         },
         "name": "Zymotic diseases",
         "r": [
          177.5,
          171.8,
          247.6,
          107.5,
          129.9,
          47.5,
          32.8,
          56.4,
          25.3,
          11.4,
          6.6,
          3.9
         ],
         "showlegend": false,
         "subplot": "polar2",
         "theta": [
          "Apr 1855",
          "May 1855",
          "Jun 1855",
          "Jul 1855",
          "Aug 1855",
          "Sep 1855",
          "Oct 1855",
          "Nov 1855",
          "Dec 1855",
          "Jan 1856",
          "Feb 1856",
          "Mar 1856"
         ],
         "type": "barpolar",
         "uid": "c0a2dc18-6c79-44ef-86d6-811d38c69ec1"
        }
       ],
       "layout": {
        "height": 800,
        "polar": {
         "angularaxis": {
          "showline": false,
          "thetaunit": "radians",
          "ticks": ""
         },
         "domain": {
          "x": [
           0,
           0.31
          ],
          "y": [
           0,
           1
          ]
         },
         "radialaxis": {
          "visible": false
         }
        },
        "polar2": {
         "angularaxis": {
          "direction": "counterclockwise",
          "rotation": 75,
          "showline": false,
          "thetaunit": "radians",
          "ticks": ""
         },
         "domain": {
          "x": [
           0.6,
           1
          ],
          "y": [
           0,
           1
          ]
         },
         "radialaxis": {
          "visible": false
         }
        },
        "title": {
         "font": {
          "family": "Droid Serif",
          "size": 20
         },
         "text": "DIAGRAM OF THE CAUSES OR MORTALITY IN THE ARMY IN THE EAST",
         "xanchor": "center"
        },
        "width": 1000
       }
      },
      "text/html": [
       "<div id=\"5cc97b97-7622-4bad-842e-3b0e806f3571\" style=\"height: 800px; width: 1000px;\" class=\"plotly-graph-div\"></div><script type=\"text/javascript\">require([\"plotly\"], function(Plotly) { window.PLOTLYENV=window.PLOTLYENV || {};window.PLOTLYENV.BASE_URL=\"https://plot.ly\";Plotly.newPlot(\"5cc97b97-7622-4bad-842e-3b0e806f3571\", [{\"marker\": {\"color\": \"#333333\", \"opacity\": 0.8}, \"name\": \"All other causes\", \"r\": [7.0, 4.6, 2.5, 9.6, 11.9, 27.7, 50.1, 42.8, 48.0, 120.0, 140.1, 68.6], \"showlegend\": true, \"subplot\": \"polar\", \"text\": [\"Apr 1854\", \"May 1854\", \"Jun 1854\", \"Jul 1854\", \"Aug 1854\", \"Sep 1854\", \"Oct 1854\", \"Nov 1854\", \"Dec 1854\", \"Jan 1855\", \"Feb 1855\", \"Mar 1855\"], \"theta\": [\"Apr 1854\", \"May 1854\", \"Jun 1854\", \"Jul 1854\", \"Aug 1854\", \"Sep 1854\", \"Oct 1854\", \"Nov 1854\", \"Dec 1854\", \"Jan 1855\", \"Feb 1855\", \"Mar 1855\"], \"type\": \"barpolar\", \"uid\": \"d9615368-c197-478f-92ac-d0bfd78ab903\"}, {\"marker\": {\"color\": \"#ff93ac\", \"opacity\": 0.8}, \"name\": \"Wounds & injuries\", \"r\": [0.0, 0.0, 0.0, 0.0, 0.4, 32.1, 51.7, 115.8, 41.7, 30.7, 16.3, 12.8], \"showlegend\": true, \"subplot\": \"polar\", \"theta\": [\"Apr 1854\", \"May 1854\", \"Jun 1854\", \"Jul 1854\", \"Aug 1854\", \"Sep 1854\", \"Oct 1854\", \"Nov 1854\", \"Dec 1854\", \"Jan 1855\", \"Feb 1855\", \"Mar 1855\"], \"type\": \"barpolar\", \"uid\": \"de151ba8-ce4d-4260-95bb-2584e08f5bb3\"}, {\"marker\": {\"color\": \"aqua\", \"opacity\": 0.8}, \"name\": \"Zymotic diseases\", \"r\": [1.4, 6.2, 4.7, 150.0, 328.5, 312.2, 197.0, 340.6, 631.5, 1022.8, 822.8, 480.3], \"showlegend\": true, \"subplot\": \"polar\", \"text\": [\"Apr 1854\", \"May 1854\", \"Jun 1854\", \"Jul 1854\", \"Aug 1854\", \"Sep 1854\", \"Oct 1854\", \"Nov 1854\", \"Dec 1854\", \"Jan 1855\", \"Feb 1855\", \"Mar 1855\"], \"theta\": [\"Apr 1854\", \"May 1854\", \"Jun 1854\", \"Jul 1854\", \"Aug 1854\", \"Sep 1854\", \"Oct 1854\", \"Nov 1854\", \"Dec 1854\", \"Jan 1855\", \"Feb 1855\", \"Mar 1855\"], \"type\": \"barpolar\", \"uid\": \"edda4d33-2672-480e-8579-d68c765bf6d7\"}, {\"marker\": {\"color\": \"#333333\", \"opacity\": 0.8}, \"name\": \"All other causes\", \"r\": [21.2, 12.5, 9.6, 9.3, 6.7, 5.0, 4.6, 10.1, 7.8, 13.0, 5.2, 9.1], \"showlegend\": false, \"subplot\": \"polar2\", \"theta\": [\"Apr 1855\", \"May 1855\", \"Jun 1855\", \"Jul 1855\", \"Aug 1855\", \"Sep 1855\", \"Oct 1855\", \"Nov 1855\", \"Dec 1855\", \"Jan 1856\", \"Feb 1856\", \"Mar 1856\"], \"type\": \"barpolar\", \"uid\": \"d46a314e-cfd3-4338-9299-014e0b0d2013\"}, {\"marker\": {\"color\": \"#ff93ac\", \"opacity\": 0.8}, \"name\": \"Wounds & injuries\", \"r\": [17.9, 16.6, 64.5, 37.7, 44.1, 69.4, 13.6, 10.5, 5.0, 0.5, 0.0, 0.0], \"showlegend\": false, \"subplot\": \"polar2\", \"theta\": [\"Apr 1855\", \"May 1855\", \"Jun 1855\", \"Jul 1855\", \"Aug 1855\", \"Sep 1855\", \"Oct 1855\", \"Nov 1855\", \"Dec 1855\", \"Jan 1856\", \"Feb 1856\", \"Mar 1856\"], \"type\": \"barpolar\", \"uid\": \"dc4f4c0e-544a-4423-b347-0fdd69116dde\"}, {\"marker\": {\"color\": \"aqua\", \"opacity\": 0.8}, \"name\": \"Zymotic diseases\", \"r\": [177.5, 171.8, 247.6, 107.5, 129.9, 47.5, 32.8, 56.4, 25.3, 11.4, 6.6, 3.9], \"showlegend\": false, \"subplot\": \"polar2\", \"theta\": [\"Apr 1855\", \"May 1855\", \"Jun 1855\", \"Jul 1855\", \"Aug 1855\", \"Sep 1855\", \"Oct 1855\", \"Nov 1855\", \"Dec 1855\", \"Jan 1856\", \"Feb 1856\", \"Mar 1856\"], \"type\": \"barpolar\", \"uid\": \"c0a2dc18-6c79-44ef-86d6-811d38c69ec1\"}], {\"height\": 800, \"title\": {\"font\": {\"family\": \"Droid Serif\", \"size\": 20}, \"text\": \"DIAGRAM OF THE CAUSES OR MORTALITY IN THE ARMY IN THE EAST\", \"xanchor\": \"center\"}, \"width\": 1000, \"polar\": {\"angularaxis\": {\"showline\": false, \"thetaunit\": \"radians\", \"ticks\": \"\"}, \"domain\": {\"x\": [0, 0.31], \"y\": [0, 1]}, \"radialaxis\": {\"visible\": false}}, \"polar2\": {\"angularaxis\": {\"direction\": \"counterclockwise\", \"rotation\": 75, \"showline\": false, \"thetaunit\": \"radians\", \"ticks\": \"\"}, \"domain\": {\"x\": [0.6, 1], \"y\": [0, 1]}, \"radialaxis\": {\"visible\": false}}}, {\"showLink\": false, \"linkText\": \"Export to plot.ly\", \"plotlyServerURL\": \"https://plot.ly\"})});</script>"
      ],
      "text/vnd.plotly.v1+html": [
       "<div id=\"5cc97b97-7622-4bad-842e-3b0e806f3571\" style=\"height: 800px; width: 1000px;\" class=\"plotly-graph-div\"></div><script type=\"text/javascript\">require([\"plotly\"], function(Plotly) { window.PLOTLYENV=window.PLOTLYENV || {};window.PLOTLYENV.BASE_URL=\"https://plot.ly\";Plotly.newPlot(\"5cc97b97-7622-4bad-842e-3b0e806f3571\", [{\"marker\": {\"color\": \"#333333\", \"opacity\": 0.8}, \"name\": \"All other causes\", \"r\": [7.0, 4.6, 2.5, 9.6, 11.9, 27.7, 50.1, 42.8, 48.0, 120.0, 140.1, 68.6], \"showlegend\": true, \"subplot\": \"polar\", \"text\": [\"Apr 1854\", \"May 1854\", \"Jun 1854\", \"Jul 1854\", \"Aug 1854\", \"Sep 1854\", \"Oct 1854\", \"Nov 1854\", \"Dec 1854\", \"Jan 1855\", \"Feb 1855\", \"Mar 1855\"], \"theta\": [\"Apr 1854\", \"May 1854\", \"Jun 1854\", \"Jul 1854\", \"Aug 1854\", \"Sep 1854\", \"Oct 1854\", \"Nov 1854\", \"Dec 1854\", \"Jan 1855\", \"Feb 1855\", \"Mar 1855\"], \"type\": \"barpolar\", \"uid\": \"d9615368-c197-478f-92ac-d0bfd78ab903\"}, {\"marker\": {\"color\": \"#ff93ac\", \"opacity\": 0.8}, \"name\": \"Wounds & injuries\", \"r\": [0.0, 0.0, 0.0, 0.0, 0.4, 32.1, 51.7, 115.8, 41.7, 30.7, 16.3, 12.8], \"showlegend\": true, \"subplot\": \"polar\", \"theta\": [\"Apr 1854\", \"May 1854\", \"Jun 1854\", \"Jul 1854\", \"Aug 1854\", \"Sep 1854\", \"Oct 1854\", \"Nov 1854\", \"Dec 1854\", \"Jan 1855\", \"Feb 1855\", \"Mar 1855\"], \"type\": \"barpolar\", \"uid\": \"de151ba8-ce4d-4260-95bb-2584e08f5bb3\"}, {\"marker\": {\"color\": \"aqua\", \"opacity\": 0.8}, \"name\": \"Zymotic diseases\", \"r\": [1.4, 6.2, 4.7, 150.0, 328.5, 312.2, 197.0, 340.6, 631.5, 1022.8, 822.8, 480.3], \"showlegend\": true, \"subplot\": \"polar\", \"text\": [\"Apr 1854\", \"May 1854\", \"Jun 1854\", \"Jul 1854\", \"Aug 1854\", \"Sep 1854\", \"Oct 1854\", \"Nov 1854\", \"Dec 1854\", \"Jan 1855\", \"Feb 1855\", \"Mar 1855\"], \"theta\": [\"Apr 1854\", \"May 1854\", \"Jun 1854\", \"Jul 1854\", \"Aug 1854\", \"Sep 1854\", \"Oct 1854\", \"Nov 1854\", \"Dec 1854\", \"Jan 1855\", \"Feb 1855\", \"Mar 1855\"], \"type\": \"barpolar\", \"uid\": \"edda4d33-2672-480e-8579-d68c765bf6d7\"}, {\"marker\": {\"color\": \"#333333\", \"opacity\": 0.8}, \"name\": \"All other causes\", \"r\": [21.2, 12.5, 9.6, 9.3, 6.7, 5.0, 4.6, 10.1, 7.8, 13.0, 5.2, 9.1], \"showlegend\": false, \"subplot\": \"polar2\", \"theta\": [\"Apr 1855\", \"May 1855\", \"Jun 1855\", \"Jul 1855\", \"Aug 1855\", \"Sep 1855\", \"Oct 1855\", \"Nov 1855\", \"Dec 1855\", \"Jan 1856\", \"Feb 1856\", \"Mar 1856\"], \"type\": \"barpolar\", \"uid\": \"d46a314e-cfd3-4338-9299-014e0b0d2013\"}, {\"marker\": {\"color\": \"#ff93ac\", \"opacity\": 0.8}, \"name\": \"Wounds & injuries\", \"r\": [17.9, 16.6, 64.5, 37.7, 44.1, 69.4, 13.6, 10.5, 5.0, 0.5, 0.0, 0.0], \"showlegend\": false, \"subplot\": \"polar2\", \"theta\": [\"Apr 1855\", \"May 1855\", \"Jun 1855\", \"Jul 1855\", \"Aug 1855\", \"Sep 1855\", \"Oct 1855\", \"Nov 1855\", \"Dec 1855\", \"Jan 1856\", \"Feb 1856\", \"Mar 1856\"], \"type\": \"barpolar\", \"uid\": \"dc4f4c0e-544a-4423-b347-0fdd69116dde\"}, {\"marker\": {\"color\": \"aqua\", \"opacity\": 0.8}, \"name\": \"Zymotic diseases\", \"r\": [177.5, 171.8, 247.6, 107.5, 129.9, 47.5, 32.8, 56.4, 25.3, 11.4, 6.6, 3.9], \"showlegend\": false, \"subplot\": \"polar2\", \"theta\": [\"Apr 1855\", \"May 1855\", \"Jun 1855\", \"Jul 1855\", \"Aug 1855\", \"Sep 1855\", \"Oct 1855\", \"Nov 1855\", \"Dec 1855\", \"Jan 1856\", \"Feb 1856\", \"Mar 1856\"], \"type\": \"barpolar\", \"uid\": \"c0a2dc18-6c79-44ef-86d6-811d38c69ec1\"}], {\"height\": 800, \"title\": {\"font\": {\"family\": \"Droid Serif\", \"size\": 20}, \"text\": \"DIAGRAM OF THE CAUSES OR MORTALITY IN THE ARMY IN THE EAST\", \"xanchor\": \"center\"}, \"width\": 1000, \"polar\": {\"angularaxis\": {\"showline\": false, \"thetaunit\": \"radians\", \"ticks\": \"\"}, \"domain\": {\"x\": [0, 0.31], \"y\": [0, 1]}, \"radialaxis\": {\"visible\": false}}, \"polar2\": {\"angularaxis\": {\"direction\": \"counterclockwise\", \"rotation\": 75, \"showline\": false, \"thetaunit\": \"radians\", \"ticks\": \"\"}, \"domain\": {\"x\": [0.6, 1], \"y\": [0, 1]}, \"radialaxis\": {\"visible\": false}}}, {\"showLink\": false, \"linkText\": \"Export to plot.ly\", \"plotlyServerURL\": \"https://plot.ly\"})});</script>"
      ]
     },
     "metadata": {},
     "output_type": "display_data"
    }
   ],
   "source": [
    "trace1A = go.Barpolar(\n",
    "    r = nightingale['All other causes.1'][0:12],\n",
    "    theta = nightingale['Month'][0:12],\n",
    "    marker = dict(\n",
    "        color = '#333333', \n",
    "        opacity = 0.8\n",
    "    ), \n",
    "    name = 'All other causes', \n",
    "    showlegend = True,\n",
    "    subplot = 'polar1',\n",
    "    text = nightingale['Month'][0:12]\n",
    ")\n",
    "\n",
    "trace1B = go.Barpolar(\n",
    "    r = nightingale['Wounds & injuries.1'][0:12],\n",
    "    theta = nightingale['Month'][0:12],\n",
    "    marker = dict(\n",
    "        color = '#ff93ac', \n",
    "        opacity = 0.8\n",
    "    ), \n",
    "    name = 'Wounds & injuries', \n",
    "    showlegend = True,\n",
    "    subplot = 'polar1'\n",
    ")\n",
    "\n",
    "trace1C = go.Barpolar(\n",
    "    r = nightingale['Zymotic diseases.1'][0:12],\n",
    "    theta = nightingale['Month'][0:12],\n",
    "    marker = dict(\n",
    "        color = 'aqua', \n",
    "        opacity = 0.8\n",
    "    ), \n",
    "    name = 'Zymotic diseases', \n",
    "    showlegend = True,\n",
    "    subplot = 'polar1',\n",
    "    text = nightingale['Month'][0:12]\n",
    ")\n",
    "\n",
    "trace2A = go.Barpolar(\n",
    "    r = nightingale['All other causes.1'][12:],\n",
    "    theta = nightingale['Month'][12:],\n",
    "    marker = dict(\n",
    "        color = '#333333', \n",
    "        opacity = 0.8\n",
    "    ), \n",
    "    name = 'All other causes', \n",
    "    showlegend = False,\n",
    "    subplot = 'polar2'\n",
    ")\n",
    "\n",
    "trace2B = go.Barpolar(\n",
    "    r = nightingale['Wounds & injuries.1'][12:],\n",
    "    theta = nightingale['Month'][12:],\n",
    "    marker = dict(\n",
    "        color = '#ff93ac', \n",
    "        opacity = 0.8\n",
    "    ), \n",
    "    name = 'Wounds & injuries', \n",
    "    showlegend = False,\n",
    "    subplot = 'polar2'\n",
    ")\n",
    "\n",
    "trace2C = go.Barpolar(\n",
    "    r = nightingale['Zymotic diseases.1'][12:],\n",
    "    theta = nightingale['Month'][12:],\n",
    "    marker = dict(\n",
    "        color = 'aqua', \n",
    "        opacity = 0.8\n",
    "    ), \n",
    "    name = 'Zymotic diseases', \n",
    "    showlegend = False,\n",
    "    subplot = 'polar2'\n",
    ")\n",
    "\n",
    "data1 = [trace1A, trace1B, trace1C, trace2A, trace2B, trace2C]\n",
    "\n",
    "layout = dict (\n",
    "    polar1 = dict(\n",
    "      domain = dict(\n",
    "        x = [0, 0.31],\n",
    "        y = [0, 1]\n",
    "      ),\n",
    "      radialaxis = dict(\n",
    "          visible = False\n",
    "      ),\n",
    "      angularaxis = dict(\n",
    "          showline = False,\n",
    "          #showgrid = False,\n",
    "          ticks = \"\",\n",
    "        thetaunit = \"radians\"\n",
    "      )\n",
    "    ),\n",
    "    \n",
    "    polar2 = dict(\n",
    "      domain = dict(\n",
    "        x = [0.6, 1],\n",
    "        y = [0, 1]\n",
    "      ),\n",
    "      radialaxis = dict(\n",
    "          visible = False\n",
    "      ),\n",
    "      angularaxis = dict(\n",
    "          showline = False,\n",
    "          #showgrid = False,\n",
    "          ticks = \"\",\n",
    "          rotation = 75,\n",
    "          direction = \"counterclockwise\",\n",
    "        thetaunit = \"radians\"\n",
    "      )\n",
    "    ),\n",
    "    width = 1000,\n",
    "    height = 800,\n",
    "    title = dict(\n",
    "        text = 'DIAGRAM OF THE CAUSES OR MORTALITY IN THE ARMY IN THE EAST',\n",
    "        font = dict(\n",
    "            size = 20,\n",
    "            family = \"Droid Serif\"\n",
    "        ),\n",
    "        xanchor = \"center\"\n",
    "    )\n",
    ")\n",
    "\n",
    "fig = go.Figure(data=data1, layout=layout)\n",
    "plot_url = py.iplot(fig, validate=False)"
   ]
  },
  {
   "cell_type": "code",
   "execution_count": null,
   "metadata": {},
   "outputs": [],
   "source": []
  }
 ],
 "metadata": {
  "kernelspec": {
   "display_name": "Python 3",
   "language": "python",
   "name": "python3"
  },
  "language_info": {
   "codemirror_mode": {
    "name": "ipython",
    "version": 3
   },
   "file_extension": ".py",
   "mimetype": "text/x-python",
   "name": "python",
   "nbconvert_exporter": "python",
   "pygments_lexer": "ipython3",
   "version": "3.6.4"
  }
 },
 "nbformat": 4,
 "nbformat_minor": 2
}
